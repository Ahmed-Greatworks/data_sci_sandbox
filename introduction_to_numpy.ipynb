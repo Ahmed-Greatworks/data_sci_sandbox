{
 "cells": [
  {
   "cell_type": "markdown",
   "id": "ea114d5e-aa22-45bb-944b-20ee223a35af",
   "metadata": {},
   "source": [
    "## Numpy DataTypes and Attributes"
   ]
  },
  {
   "cell_type": "code",
   "execution_count": 1,
   "id": "5cf392c5-6323-4055-b5d3-ddfd11020502",
   "metadata": {},
   "outputs": [],
   "source": [
    "import numpy as np"
   ]
  },
  {
   "cell_type": "code",
   "execution_count": 2,
   "id": "df5cb202-9b9b-4256-be9b-b1e0ca2b5638",
   "metadata": {},
   "outputs": [],
   "source": [
    "# Numpy main datatype is ndarray\n",
    "a1 = np.array([1, 2, 3])"
   ]
  },
  {
   "cell_type": "code",
   "execution_count": 3,
   "id": "3152a7cc-1a0a-466e-857b-b92a7da13f21",
   "metadata": {},
   "outputs": [
    {
     "data": {
      "text/plain": [
       "array([1, 2, 3])"
      ]
     },
     "execution_count": 3,
     "metadata": {},
     "output_type": "execute_result"
    }
   ],
   "source": [
    "a1"
   ]
  },
  {
   "cell_type": "code",
   "execution_count": 4,
   "id": "b81c74f1-56ca-4021-953a-cf4f490f2644",
   "metadata": {},
   "outputs": [
    {
     "data": {
      "text/plain": [
       "numpy.ndarray"
      ]
     },
     "execution_count": 4,
     "metadata": {},
     "output_type": "execute_result"
    }
   ],
   "source": [
    "type(a1)"
   ]
  },
  {
   "cell_type": "code",
   "execution_count": 6,
   "id": "2cbb1074-f7a2-4d31-954b-0c903903d682",
   "metadata": {},
   "outputs": [
    {
     "data": {
      "text/plain": [
       "(array([[1. , 2. , 3.5],\n",
       "        [4.5, 5. , 6.5]]),\n",
       " array([[[ 1,  2,  3],\n",
       "         [ 4,  5,  6],\n",
       "         [ 7,  8,  9]],\n",
       " \n",
       "        [[10, 11, 12],\n",
       "         [13, 14, 15],\n",
       "         [16, 17, 18]]]))"
      ]
     },
     "execution_count": 6,
     "metadata": {},
     "output_type": "execute_result"
    }
   ],
   "source": [
    "a2 = np.array([[1, 2, 3.5],\n",
    "               [4.5, 5.0, 6.5]])\n",
    "\n",
    "a3 = np.array([[[1, 2, 3],\n",
    "                [4, 5, 6],\n",
    "                [7, 8, 9]],\n",
    "               [[10, 11, 12],\n",
    "                [13, 14, 15],\n",
    "                [16, 17, 18]]])\n",
    "a2, a3"
   ]
  },
  {
   "cell_type": "code",
   "execution_count": 7,
   "id": "1dc2737a-f269-4077-b876-d36a394ab91e",
   "metadata": {},
   "outputs": [
    {
     "data": {
      "text/plain": [
       "numpy.ndarray"
      ]
     },
     "execution_count": 7,
     "metadata": {},
     "output_type": "execute_result"
    }
   ],
   "source": [
    "type(a2)"
   ]
  },
  {
   "cell_type": "code",
   "execution_count": 8,
   "id": "a76cba6e-237a-4de2-bafc-088f53e54dba",
   "metadata": {},
   "outputs": [
    {
     "data": {
      "text/plain": [
       "numpy.ndarray"
      ]
     },
     "execution_count": 8,
     "metadata": {},
     "output_type": "execute_result"
    }
   ],
   "source": [
    "type(a3)"
   ]
  },
  {
   "cell_type": "code",
   "execution_count": 9,
   "id": "9d95a00e-10eb-4ae1-8896-d41a16ceb7e5",
   "metadata": {},
   "outputs": [
    {
     "data": {
      "text/plain": [
       "(3,)"
      ]
     },
     "execution_count": 9,
     "metadata": {},
     "output_type": "execute_result"
    }
   ],
   "source": [
    "a1.shape"
   ]
  },
  {
   "cell_type": "code",
   "execution_count": 10,
   "id": "23a6901b-1dce-4942-b693-b1ac4bb93773",
   "metadata": {},
   "outputs": [
    {
     "data": {
      "text/plain": [
       "(2, 3)"
      ]
     },
     "execution_count": 10,
     "metadata": {},
     "output_type": "execute_result"
    }
   ],
   "source": [
    "a2.shape"
   ]
  },
  {
   "cell_type": "code",
   "execution_count": 11,
   "id": "a82bc2ed-eecc-42b4-9815-b8d7dee7f804",
   "metadata": {},
   "outputs": [
    {
     "data": {
      "text/plain": [
       "(2, 3, 3)"
      ]
     },
     "execution_count": 11,
     "metadata": {},
     "output_type": "execute_result"
    }
   ],
   "source": [
    "a3.shape"
   ]
  },
  {
   "cell_type": "code",
   "execution_count": 13,
   "id": "7100cfc9-9617-4a4f-afb8-176df35fb218",
   "metadata": {},
   "outputs": [
    {
     "data": {
      "text/plain": [
       "(1, 2, 3)"
      ]
     },
     "execution_count": 13,
     "metadata": {},
     "output_type": "execute_result"
    }
   ],
   "source": [
    "a1.ndim, a2.ndim, a3.ndim"
   ]
  },
  {
   "cell_type": "code",
   "execution_count": 14,
   "id": "fe40c33d-9508-44d7-aa3c-f3b57cc2daf0",
   "metadata": {},
   "outputs": [
    {
     "data": {
      "text/plain": [
       "(dtype('int64'), dtype('float64'), dtype('int64'))"
      ]
     },
     "execution_count": 14,
     "metadata": {},
     "output_type": "execute_result"
    }
   ],
   "source": [
    "a1.dtype, a2.dtype, a3.dtype"
   ]
  },
  {
   "cell_type": "code",
   "execution_count": 15,
   "id": "a7a161ab-2f1d-4042-8254-706d6879484b",
   "metadata": {},
   "outputs": [
    {
     "data": {
      "text/plain": [
       "(3, 6, 18)"
      ]
     },
     "execution_count": 15,
     "metadata": {},
     "output_type": "execute_result"
    }
   ],
   "source": [
    "a1.size, a2.size, a3.size"
   ]
  },
  {
   "cell_type": "code",
   "execution_count": 16,
   "id": "b917d663-223f-4bba-8885-86c2fea52d79",
   "metadata": {},
   "outputs": [
    {
     "data": {
      "text/html": [
       "<div>\n",
       "<style scoped>\n",
       "    .dataframe tbody tr th:only-of-type {\n",
       "        vertical-align: middle;\n",
       "    }\n",
       "\n",
       "    .dataframe tbody tr th {\n",
       "        vertical-align: top;\n",
       "    }\n",
       "\n",
       "    .dataframe thead th {\n",
       "        text-align: right;\n",
       "    }\n",
       "</style>\n",
       "<table border=\"1\" class=\"dataframe\">\n",
       "  <thead>\n",
       "    <tr style=\"text-align: right;\">\n",
       "      <th></th>\n",
       "      <th>0</th>\n",
       "      <th>1</th>\n",
       "      <th>2</th>\n",
       "    </tr>\n",
       "  </thead>\n",
       "  <tbody>\n",
       "    <tr>\n",
       "      <th>0</th>\n",
       "      <td>1.0</td>\n",
       "      <td>2.0</td>\n",
       "      <td>3.5</td>\n",
       "    </tr>\n",
       "    <tr>\n",
       "      <th>1</th>\n",
       "      <td>4.5</td>\n",
       "      <td>5.0</td>\n",
       "      <td>6.5</td>\n",
       "    </tr>\n",
       "  </tbody>\n",
       "</table>\n",
       "</div>"
      ],
      "text/plain": [
       "     0    1    2\n",
       "0  1.0  2.0  3.5\n",
       "1  4.5  5.0  6.5"
      ]
     },
     "execution_count": 16,
     "metadata": {},
     "output_type": "execute_result"
    }
   ],
   "source": [
    "import pandas as pd\n",
    "# Create a DataFrame from a numpy array\n",
    "df = pd.DataFrame(a2)\n",
    "\n",
    "df"
   ]
  },
  {
   "cell_type": "markdown",
   "id": "d42db113-8168-4010-8e29-8a8e13b20bb2",
   "metadata": {},
   "source": [
    "## 2. Creating Numpy Arrays"
   ]
  },
  {
   "cell_type": "code",
   "execution_count": 17,
   "id": "0b87e485-adaa-42e6-a393-e7ee6f9d6593",
   "metadata": {},
   "outputs": [
    {
     "data": {
      "text/plain": [
       "array([1, 2, 3])"
      ]
     },
     "execution_count": 17,
     "metadata": {},
     "output_type": "execute_result"
    }
   ],
   "source": [
    "sample_array = np.array([1, 2, 3])\n",
    "sample_array"
   ]
  },
  {
   "cell_type": "code",
   "execution_count": 18,
   "id": "2a84e859-4165-40e5-9fcb-b58f860e3077",
   "metadata": {},
   "outputs": [
    {
     "data": {
      "text/plain": [
       "dtype('int64')"
      ]
     },
     "execution_count": 18,
     "metadata": {},
     "output_type": "execute_result"
    }
   ],
   "source": [
    "sample_array.dtype"
   ]
  },
  {
   "cell_type": "code",
   "execution_count": 19,
   "id": "dbecd414-e516-454c-99fd-1b1882744fdd",
   "metadata": {},
   "outputs": [
    {
     "data": {
      "text/plain": [
       "numpy.ndarray"
      ]
     },
     "execution_count": 19,
     "metadata": {},
     "output_type": "execute_result"
    }
   ],
   "source": [
    "type(sample_array)"
   ]
  },
  {
   "cell_type": "code",
   "execution_count": 20,
   "id": "c9921502-ddb6-4ff5-a7d2-56de121ed86c",
   "metadata": {},
   "outputs": [
    {
     "data": {
      "text/plain": [
       "array([[1., 1., 1., 1.],\n",
       "       [1., 1., 1., 1.],\n",
       "       [1., 1., 1., 1.],\n",
       "       [1., 1., 1., 1.]])"
      ]
     },
     "execution_count": 20,
     "metadata": {},
     "output_type": "execute_result"
    }
   ],
   "source": [
    "ones = np.ones((4,4))\n",
    "ones"
   ]
  },
  {
   "cell_type": "code",
   "execution_count": 21,
   "id": "babe23dc-4e20-4d5c-830b-0134d82796af",
   "metadata": {},
   "outputs": [],
   "source": [
    "ones = np.ones((4,4), dtype=np.int8)"
   ]
  },
  {
   "cell_type": "code",
   "execution_count": 22,
   "id": "b3825bf9-c631-4e9b-9384-2eb31d14ad7e",
   "metadata": {},
   "outputs": [
    {
     "data": {
      "text/plain": [
       "array([[1, 1, 1, 1],\n",
       "       [1, 1, 1, 1],\n",
       "       [1, 1, 1, 1],\n",
       "       [1, 1, 1, 1]], dtype=int8)"
      ]
     },
     "execution_count": 22,
     "metadata": {},
     "output_type": "execute_result"
    }
   ],
   "source": [
    "ones"
   ]
  },
  {
   "cell_type": "code",
   "execution_count": 23,
   "id": "b9d2cf78-1565-4500-b61f-a5d8727eba6a",
   "metadata": {},
   "outputs": [],
   "source": [
    "zeros = np.zeros((3,3), dtype=np.int8)"
   ]
  },
  {
   "cell_type": "code",
   "execution_count": 24,
   "id": "c0318892-63c3-426d-b190-82e3ee15c0c5",
   "metadata": {},
   "outputs": [
    {
     "data": {
      "text/plain": [
       "array([[0, 0, 0],\n",
       "       [0, 0, 0],\n",
       "       [0, 0, 0]], dtype=int8)"
      ]
     },
     "execution_count": 24,
     "metadata": {},
     "output_type": "execute_result"
    }
   ],
   "source": [
    "zeros"
   ]
  },
  {
   "cell_type": "code",
   "execution_count": 25,
   "id": "4606d4d6-656f-41aa-9708-9dd8edbd0a08",
   "metadata": {},
   "outputs": [
    {
     "data": {
      "text/plain": [
       "numpy.ndarray"
      ]
     },
     "execution_count": 25,
     "metadata": {},
     "output_type": "execute_result"
    }
   ],
   "source": [
    "type(zeros)"
   ]
  },
  {
   "cell_type": "code",
   "execution_count": 26,
   "id": "d6d3550d-9c03-4488-a9fd-854dffa040d2",
   "metadata": {},
   "outputs": [
    {
     "data": {
      "text/plain": [
       "dtype('int8')"
      ]
     },
     "execution_count": 26,
     "metadata": {},
     "output_type": "execute_result"
    }
   ],
   "source": [
    "ones.dtype"
   ]
  },
  {
   "cell_type": "code",
   "execution_count": 27,
   "id": "5a3ce7e4-18d5-491e-a6f8-cf7fcf2c0834",
   "metadata": {},
   "outputs": [
    {
     "data": {
      "text/plain": [
       "array([1, 3, 5, 7, 9])"
      ]
     },
     "execution_count": 27,
     "metadata": {},
     "output_type": "execute_result"
    }
   ],
   "source": [
    "range_array = np.arange(1, 10, 2)\n",
    "range_array"
   ]
  },
  {
   "cell_type": "code",
   "execution_count": 28,
   "id": "aee13842-0bb4-4648-baf4-c03e107a5e21",
   "metadata": {},
   "outputs": [
    {
     "data": {
      "text/plain": [
       "numpy.ndarray"
      ]
     },
     "execution_count": 28,
     "metadata": {},
     "output_type": "execute_result"
    }
   ],
   "source": [
    "type(range_array)"
   ]
  },
  {
   "cell_type": "code",
   "execution_count": 29,
   "id": "df97a4c7-5e0b-47ce-8c9e-03455093e5ce",
   "metadata": {},
   "outputs": [
    {
     "data": {
      "text/plain": [
       "dtype('int64')"
      ]
     },
     "execution_count": 29,
     "metadata": {},
     "output_type": "execute_result"
    }
   ],
   "source": [
    "range_array.dtype"
   ]
  },
  {
   "cell_type": "code",
   "execution_count": 30,
   "id": "f45f1556-cb8f-4f8b-926c-0aed5e6f2b7d",
   "metadata": {},
   "outputs": [
    {
     "data": {
      "text/plain": [
       "array([2, 2, 4, 2, 4, 4, 1, 1, 2, 3])"
      ]
     },
     "execution_count": 30,
     "metadata": {},
     "output_type": "execute_result"
    }
   ],
   "source": [
    "random_array = np.random.randint(1, 5, size=10)\n",
    "random_array"
   ]
  },
  {
   "cell_type": "code",
   "execution_count": 31,
   "id": "83f2b714-b789-4c78-9ba5-1b508b679076",
   "metadata": {},
   "outputs": [],
   "source": [
    "random_arr = np.random.random((2,3))"
   ]
  },
  {
   "cell_type": "code",
   "execution_count": 32,
   "id": "67117c54-a143-473e-8545-a8b7ddddd181",
   "metadata": {},
   "outputs": [
    {
     "data": {
      "text/plain": [
       "array([[0.45141197, 0.99752895, 0.66973789],\n",
       "       [0.97712342, 0.69053594, 0.02082073]])"
      ]
     },
     "execution_count": 32,
     "metadata": {},
     "output_type": "execute_result"
    }
   ],
   "source": [
    "random_arr"
   ]
  },
  {
   "cell_type": "code",
   "execution_count": 35,
   "id": "f1cecb5e-6404-4b19-980d-350aee602a86",
   "metadata": {},
   "outputs": [
    {
     "data": {
      "text/plain": [
       "array([[0.76639739, 0.8230787 , 0.38777011],\n",
       "       [0.92659796, 0.4411866 , 0.10669954],\n",
       "       [0.07726155, 0.48282883, 0.56804669],\n",
       "       [0.30722928, 0.9300126 , 0.49406964],\n",
       "       [0.50973497, 0.48490325, 0.09914145]])"
      ]
     },
     "execution_count": 35,
     "metadata": {},
     "output_type": "execute_result"
    }
   ],
   "source": [
    "# pseudo random numbers\n",
    "random_arr_3 = np.random.random((5, 3))\n",
    "random_arr_3"
   ]
  },
  {
   "cell_type": "code",
   "execution_count": 41,
   "id": "a3c81a81-3ba6-4732-9740-26fa3764be40",
   "metadata": {},
   "outputs": [
    {
     "data": {
      "text/plain": [
       "array([[13,  6,  1,  4, 12],\n",
       "       [ 4,  8, 10,  4,  6],\n",
       "       [ 3,  5,  8,  7,  9]])"
      ]
     },
     "execution_count": 41,
     "metadata": {},
     "output_type": "execute_result"
    }
   ],
   "source": [
    "# But, if we have .seed at the top, there is guarantee to generate same random number over and over again\n",
    "np.random.seed(seed=0)\n",
    "random_array_4 = np.random.randint(1, 15, size=(3, 5))\n",
    "random_array_4"
   ]
  },
  {
   "cell_type": "markdown",
   "id": "326c72ad-b169-41b2-9519-65c7256e0e06",
   "metadata": {},
   "source": [
    "## 3. Viewing arrays and matrices"
   ]
  },
  {
   "cell_type": "code",
   "execution_count": 42,
   "id": "a774ac84-7e4b-4ca0-b2f7-db9b7537f157",
   "metadata": {},
   "outputs": [
    {
     "data": {
      "text/plain": [
       "array([1, 2, 3, 4])"
      ]
     },
     "execution_count": 42,
     "metadata": {},
     "output_type": "execute_result"
    }
   ],
   "source": [
    "np.unique(random_array)"
   ]
  },
  {
   "cell_type": "code",
   "execution_count": 43,
   "id": "7524aa83-5e19-4ca7-81d9-4108b4282aa5",
   "metadata": {},
   "outputs": [
    {
     "data": {
      "text/plain": [
       "array([ 1,  3,  4,  5,  6,  7,  8,  9, 10, 12, 13])"
      ]
     },
     "execution_count": 43,
     "metadata": {},
     "output_type": "execute_result"
    }
   ],
   "source": [
    "np.unique(random_array_4)"
   ]
  },
  {
   "cell_type": "code",
   "execution_count": 44,
   "id": "3e3dcba7-5507-4a8e-85ff-89cbe6d99a33",
   "metadata": {},
   "outputs": [
    {
     "data": {
      "text/plain": [
       "array([[[[8, 1, 6, 7, 7],\n",
       "         [8, 1, 5, 9, 8],\n",
       "         [9, 4, 3, 0, 3],\n",
       "         [5, 0, 2, 3, 8]],\n",
       "\n",
       "        [[1, 3, 3, 3, 7],\n",
       "         [0, 1, 9, 9, 0],\n",
       "         [4, 7, 3, 2, 7],\n",
       "         [2, 0, 0, 4, 5]],\n",
       "\n",
       "        [[5, 6, 8, 4, 1],\n",
       "         [4, 9, 8, 1, 1],\n",
       "         [7, 9, 9, 3, 6],\n",
       "         [7, 2, 0, 3, 5]]],\n",
       "\n",
       "\n",
       "       [[[9, 4, 4, 6, 4],\n",
       "         [4, 3, 4, 4, 8],\n",
       "         [4, 3, 7, 5, 5],\n",
       "         [0, 1, 5, 9, 3]],\n",
       "\n",
       "        [[0, 5, 0, 1, 2],\n",
       "         [4, 2, 0, 3, 2],\n",
       "         [0, 7, 5, 9, 0],\n",
       "         [2, 7, 2, 9, 2]],\n",
       "\n",
       "        [[3, 3, 2, 3, 4],\n",
       "         [1, 2, 9, 1, 4],\n",
       "         [6, 8, 2, 3, 0],\n",
       "         [0, 6, 0, 6, 3]]]])"
      ]
     },
     "execution_count": 44,
     "metadata": {},
     "output_type": "execute_result"
    }
   ],
   "source": [
    "a4 = np.random.randint(10, size=(2, 3, 4, 5))\n",
    "a4"
   ]
  },
  {
   "cell_type": "code",
   "execution_count": 45,
   "id": "3fd6201c-4c67-4c7d-9bbb-c55c1ea0ac0b",
   "metadata": {},
   "outputs": [
    {
     "data": {
      "text/plain": [
       "array([[[[3, 8, 8, 8, 2, 3],\n",
       "         [2, 0, 8, 8, 3, 8],\n",
       "         [2, 8, 4, 3, 0, 4],\n",
       "         [3, 6, 9, 8, 0, 8],\n",
       "         [5, 9, 0, 9, 6, 5]],\n",
       "\n",
       "        [[3, 1, 8, 0, 4, 9],\n",
       "         [6, 5, 7, 8, 8, 9],\n",
       "         [2, 8, 6, 6, 9, 1],\n",
       "         [6, 8, 8, 3, 2, 3],\n",
       "         [6, 3, 6, 5, 7, 0]],\n",
       "\n",
       "        [[8, 4, 6, 5, 8, 2],\n",
       "         [3, 9, 7, 5, 3, 4],\n",
       "         [5, 3, 3, 7, 9, 9],\n",
       "         [9, 7, 3, 2, 3, 9],\n",
       "         [7, 7, 5, 1, 2, 2]],\n",
       "\n",
       "        [[8, 1, 5, 8, 4, 0],\n",
       "         [2, 5, 5, 0, 8, 1],\n",
       "         [1, 0, 3, 8, 8, 4],\n",
       "         [4, 0, 9, 3, 7, 3],\n",
       "         [2, 1, 1, 2, 1, 4]]],\n",
       "\n",
       "\n",
       "       [[[2, 5, 5, 5, 2, 5],\n",
       "         [7, 7, 6, 1, 6, 7],\n",
       "         [2, 3, 1, 9, 5, 9],\n",
       "         [9, 2, 0, 9, 1, 9],\n",
       "         [0, 6, 0, 4, 8, 4]],\n",
       "\n",
       "        [[3, 3, 8, 8, 7, 0],\n",
       "         [3, 8, 7, 7, 1, 8],\n",
       "         [4, 7, 0, 4, 9, 0],\n",
       "         [6, 4, 2, 4, 6, 3],\n",
       "         [3, 7, 8, 5, 0, 8]],\n",
       "\n",
       "        [[5, 4, 7, 4, 1, 3],\n",
       "         [3, 9, 2, 5, 2, 3],\n",
       "         [5, 7, 2, 7, 1, 6],\n",
       "         [5, 0, 0, 3, 1, 9],\n",
       "         [9, 6, 6, 7, 8, 8]],\n",
       "\n",
       "        [[7, 0, 8, 6, 8, 9],\n",
       "         [8, 3, 6, 1, 7, 4],\n",
       "         [9, 2, 0, 8, 2, 7],\n",
       "         [8, 4, 4, 1, 7, 6],\n",
       "         [9, 4, 1, 5, 9, 7]]],\n",
       "\n",
       "\n",
       "       [[[1, 3, 5, 7, 3, 6],\n",
       "         [6, 7, 9, 1, 9, 6],\n",
       "         [0, 3, 8, 4, 1, 4],\n",
       "         [5, 0, 3, 1, 4, 4],\n",
       "         [4, 0, 0, 8, 4, 6]],\n",
       "\n",
       "        [[9, 3, 3, 2, 1, 2],\n",
       "         [1, 3, 4, 1, 1, 0],\n",
       "         [7, 8, 4, 3, 5, 6],\n",
       "         [3, 2, 9, 8, 1, 4],\n",
       "         [0, 8, 3, 9, 5, 5]],\n",
       "\n",
       "        [[1, 7, 8, 6, 4, 7],\n",
       "         [3, 5, 3, 6, 4, 7],\n",
       "         [3, 0, 5, 9, 3, 7],\n",
       "         [5, 5, 8, 0, 8, 3],\n",
       "         [6, 9, 3, 2, 7, 0]],\n",
       "\n",
       "        [[3, 0, 3, 6, 1, 9],\n",
       "         [2, 9, 4, 9, 1, 3],\n",
       "         [2, 4, 9, 7, 4, 9],\n",
       "         [4, 1, 2, 7, 2, 3],\n",
       "         [9, 7, 6, 6, 2, 3]]]])"
      ]
     },
     "execution_count": 45,
     "metadata": {},
     "output_type": "execute_result"
    }
   ],
   "source": [
    "a5 = np.random.randint(10, size=(3, 4, 5, 6))\n",
    "a5"
   ]
  },
  {
   "cell_type": "code",
   "execution_count": 46,
   "id": "6b043604-2c2e-4b6d-bfc9-5281d2ed587a",
   "metadata": {},
   "outputs": [
    {
     "data": {
      "text/plain": [
       "(3,)"
      ]
     },
     "execution_count": 46,
     "metadata": {},
     "output_type": "execute_result"
    }
   ],
   "source": [
    "a1.shape"
   ]
  },
  {
   "cell_type": "code",
   "execution_count": 47,
   "id": "50110c3f-21b0-460a-8cdb-504c0b0483a3",
   "metadata": {},
   "outputs": [
    {
     "data": {
      "text/plain": [
       "np.int64(1)"
      ]
     },
     "execution_count": 47,
     "metadata": {},
     "output_type": "execute_result"
    }
   ],
   "source": [
    "a1[0]"
   ]
  },
  {
   "cell_type": "code",
   "execution_count": 48,
   "id": "b2dff3b2-4781-4ebe-bb15-87b5e6a4f63b",
   "metadata": {},
   "outputs": [
    {
     "data": {
      "text/plain": [
       "(2, 3)"
      ]
     },
     "execution_count": 48,
     "metadata": {},
     "output_type": "execute_result"
    }
   ],
   "source": [
    "a2.shape"
   ]
  },
  {
   "cell_type": "code",
   "execution_count": 49,
   "id": "3e373d45-9846-495c-8ec7-a2c296d18752",
   "metadata": {},
   "outputs": [
    {
     "data": {
      "text/plain": [
       "array([1. , 2. , 3.5])"
      ]
     },
     "execution_count": 49,
     "metadata": {},
     "output_type": "execute_result"
    }
   ],
   "source": [
    "a2[0]"
   ]
  },
  {
   "cell_type": "code",
   "execution_count": 50,
   "id": "8138156e-0321-4e03-9de7-86dff8362069",
   "metadata": {},
   "outputs": [
    {
     "data": {
      "text/plain": [
       "array([4.5, 5. , 6.5])"
      ]
     },
     "execution_count": 50,
     "metadata": {},
     "output_type": "execute_result"
    }
   ],
   "source": [
    "a2[1]"
   ]
  },
  {
   "cell_type": "code",
   "execution_count": 51,
   "id": "82147afe-1767-4422-bce0-a19bdd1ea119",
   "metadata": {},
   "outputs": [
    {
     "data": {
      "text/plain": [
       "array([4.5, 5. , 6.5])"
      ]
     },
     "execution_count": 51,
     "metadata": {},
     "output_type": "execute_result"
    }
   ],
   "source": [
    "a2[1, :3]"
   ]
  },
  {
   "cell_type": "code",
   "execution_count": 52,
   "id": "9da3b08c-db86-41fe-a882-da69b23f919e",
   "metadata": {},
   "outputs": [
    {
     "data": {
      "text/plain": [
       "array([4.5, 5. ])"
      ]
     },
     "execution_count": 52,
     "metadata": {},
     "output_type": "execute_result"
    }
   ],
   "source": [
    "a2[1, :2]"
   ]
  },
  {
   "cell_type": "code",
   "execution_count": 53,
   "id": "d141a316-e0a9-4666-880c-53637a125822",
   "metadata": {},
   "outputs": [
    {
     "data": {
      "text/plain": [
       "array([[1. , 2. ],\n",
       "       [4.5, 5. ]])"
      ]
     },
     "execution_count": 53,
     "metadata": {},
     "output_type": "execute_result"
    }
   ],
   "source": [
    "a2[:, :2]"
   ]
  },
  {
   "cell_type": "code",
   "execution_count": 54,
   "id": "5f9aedec-e9ad-441b-8167-dd91c5fa6d1c",
   "metadata": {},
   "outputs": [
    {
     "data": {
      "text/plain": [
       "(array([[[ 1,  2,  3],\n",
       "         [ 4,  5,  6],\n",
       "         [ 7,  8,  9]],\n",
       " \n",
       "        [[10, 11, 12],\n",
       "         [13, 14, 15],\n",
       "         [16, 17, 18]]]),\n",
       " (2, 3, 3))"
      ]
     },
     "execution_count": 54,
     "metadata": {},
     "output_type": "execute_result"
    }
   ],
   "source": [
    "a3, a3.shape"
   ]
  },
  {
   "cell_type": "code",
   "execution_count": 55,
   "id": "6603bcd4-feeb-46a0-a7c5-6609687e6cd8",
   "metadata": {},
   "outputs": [
    {
     "data": {
      "text/plain": [
       "array([[10, 11, 12],\n",
       "       [13, 14, 15],\n",
       "       [16, 17, 18]])"
      ]
     },
     "execution_count": 55,
     "metadata": {},
     "output_type": "execute_result"
    }
   ],
   "source": [
    "a3[1]"
   ]
  },
  {
   "cell_type": "code",
   "execution_count": 56,
   "id": "b1556c40-bbf1-4047-8dde-f80630fee2e5",
   "metadata": {},
   "outputs": [
    {
     "data": {
      "text/plain": [
       "array([[11],\n",
       "       [14],\n",
       "       [17]])"
      ]
     },
     "execution_count": 56,
     "metadata": {},
     "output_type": "execute_result"
    }
   ],
   "source": [
    "a3[1, :, 1:2]"
   ]
  },
  {
   "cell_type": "code",
   "execution_count": 57,
   "id": "e238ecb6-8dd9-420e-8f59-1c346c660922",
   "metadata": {},
   "outputs": [
    {
     "data": {
      "text/plain": [
       "array([[[ 2],\n",
       "        [ 5],\n",
       "        [ 8]],\n",
       "\n",
       "       [[11],\n",
       "        [14],\n",
       "        [17]]])"
      ]
     },
     "execution_count": 57,
     "metadata": {},
     "output_type": "execute_result"
    }
   ],
   "source": [
    "a3[:, :, 1:2]"
   ]
  },
  {
   "cell_type": "code",
   "execution_count": 58,
   "id": "849ea584-2dea-4252-9690-f532b3041bfb",
   "metadata": {},
   "outputs": [
    {
     "data": {
      "text/plain": [
       "array([[[[8, 1, 6, 7, 7],\n",
       "         [8, 1, 5, 9, 8],\n",
       "         [9, 4, 3, 0, 3],\n",
       "         [5, 0, 2, 3, 8]],\n",
       "\n",
       "        [[1, 3, 3, 3, 7],\n",
       "         [0, 1, 9, 9, 0],\n",
       "         [4, 7, 3, 2, 7],\n",
       "         [2, 0, 0, 4, 5]],\n",
       "\n",
       "        [[5, 6, 8, 4, 1],\n",
       "         [4, 9, 8, 1, 1],\n",
       "         [7, 9, 9, 3, 6],\n",
       "         [7, 2, 0, 3, 5]]],\n",
       "\n",
       "\n",
       "       [[[9, 4, 4, 6, 4],\n",
       "         [4, 3, 4, 4, 8],\n",
       "         [4, 3, 7, 5, 5],\n",
       "         [0, 1, 5, 9, 3]],\n",
       "\n",
       "        [[0, 5, 0, 1, 2],\n",
       "         [4, 2, 0, 3, 2],\n",
       "         [0, 7, 5, 9, 0],\n",
       "         [2, 7, 2, 9, 2]],\n",
       "\n",
       "        [[3, 3, 2, 3, 4],\n",
       "         [1, 2, 9, 1, 4],\n",
       "         [6, 8, 2, 3, 0],\n",
       "         [0, 6, 0, 6, 3]]]])"
      ]
     },
     "execution_count": 58,
     "metadata": {},
     "output_type": "execute_result"
    }
   ],
   "source": [
    "a4"
   ]
  },
  {
   "cell_type": "code",
   "execution_count": 59,
   "id": "f0e4a91f-7481-46c8-b9da-d9f8eaa8b624",
   "metadata": {},
   "outputs": [
    {
     "data": {
      "text/plain": [
       "(4, (2, 3, 4, 5))"
      ]
     },
     "execution_count": 59,
     "metadata": {},
     "output_type": "execute_result"
    }
   ],
   "source": [
    "a4.ndim, a4.shape"
   ]
  },
  {
   "cell_type": "code",
   "execution_count": 60,
   "id": "9860264e-7a9c-4136-b26c-c2096bc189bb",
   "metadata": {},
   "outputs": [
    {
     "data": {
      "text/plain": [
       "array([[[[8],\n",
       "         [8],\n",
       "         [9],\n",
       "         [5]],\n",
       "\n",
       "        [[1],\n",
       "         [0],\n",
       "         [4],\n",
       "         [2]],\n",
       "\n",
       "        [[5],\n",
       "         [4],\n",
       "         [7],\n",
       "         [7]]],\n",
       "\n",
       "\n",
       "       [[[9],\n",
       "         [4],\n",
       "         [4],\n",
       "         [0]],\n",
       "\n",
       "        [[0],\n",
       "         [4],\n",
       "         [0],\n",
       "         [2]],\n",
       "\n",
       "        [[3],\n",
       "         [1],\n",
       "         [6],\n",
       "         [0]]]])"
      ]
     },
     "execution_count": 60,
     "metadata": {},
     "output_type": "execute_result"
    }
   ],
   "source": [
    "a4[:, :, :, :1]"
   ]
  },
  {
   "cell_type": "code",
   "execution_count": 63,
   "id": "695292d0-99fa-4781-aa7d-f213c8ade2e6",
   "metadata": {},
   "outputs": [
    {
     "data": {
      "text/plain": [
       "array([[[[8, 7],\n",
       "         [8, 8],\n",
       "         [9, 3],\n",
       "         [5, 8]],\n",
       "\n",
       "        [[1, 7],\n",
       "         [0, 0],\n",
       "         [4, 7],\n",
       "         [2, 5]],\n",
       "\n",
       "        [[5, 1],\n",
       "         [4, 1],\n",
       "         [7, 6],\n",
       "         [7, 5]]],\n",
       "\n",
       "\n",
       "       [[[9, 4],\n",
       "         [4, 8],\n",
       "         [4, 5],\n",
       "         [0, 3]],\n",
       "\n",
       "        [[0, 2],\n",
       "         [4, 2],\n",
       "         [0, 0],\n",
       "         [2, 2]],\n",
       "\n",
       "        [[3, 4],\n",
       "         [1, 4],\n",
       "         [6, 0],\n",
       "         [0, 3]]]])"
      ]
     },
     "execution_count": 63,
     "metadata": {},
     "output_type": "execute_result"
    }
   ],
   "source": [
    "a4[:, :, :, [0,4]]"
   ]
  },
  {
   "cell_type": "code",
   "execution_count": 64,
   "id": "84076bb7-ba80-497c-87c3-27b532cd78ef",
   "metadata": {},
   "outputs": [
    {
     "data": {
      "text/plain": [
       "array([[[[3, 8, 8, 8, 2, 3],\n",
       "         [2, 0, 8, 8, 3, 8],\n",
       "         [2, 8, 4, 3, 0, 4],\n",
       "         [3, 6, 9, 8, 0, 8],\n",
       "         [5, 9, 0, 9, 6, 5]],\n",
       "\n",
       "        [[3, 1, 8, 0, 4, 9],\n",
       "         [6, 5, 7, 8, 8, 9],\n",
       "         [2, 8, 6, 6, 9, 1],\n",
       "         [6, 8, 8, 3, 2, 3],\n",
       "         [6, 3, 6, 5, 7, 0]],\n",
       "\n",
       "        [[8, 4, 6, 5, 8, 2],\n",
       "         [3, 9, 7, 5, 3, 4],\n",
       "         [5, 3, 3, 7, 9, 9],\n",
       "         [9, 7, 3, 2, 3, 9],\n",
       "         [7, 7, 5, 1, 2, 2]],\n",
       "\n",
       "        [[8, 1, 5, 8, 4, 0],\n",
       "         [2, 5, 5, 0, 8, 1],\n",
       "         [1, 0, 3, 8, 8, 4],\n",
       "         [4, 0, 9, 3, 7, 3],\n",
       "         [2, 1, 1, 2, 1, 4]]],\n",
       "\n",
       "\n",
       "       [[[2, 5, 5, 5, 2, 5],\n",
       "         [7, 7, 6, 1, 6, 7],\n",
       "         [2, 3, 1, 9, 5, 9],\n",
       "         [9, 2, 0, 9, 1, 9],\n",
       "         [0, 6, 0, 4, 8, 4]],\n",
       "\n",
       "        [[3, 3, 8, 8, 7, 0],\n",
       "         [3, 8, 7, 7, 1, 8],\n",
       "         [4, 7, 0, 4, 9, 0],\n",
       "         [6, 4, 2, 4, 6, 3],\n",
       "         [3, 7, 8, 5, 0, 8]],\n",
       "\n",
       "        [[5, 4, 7, 4, 1, 3],\n",
       "         [3, 9, 2, 5, 2, 3],\n",
       "         [5, 7, 2, 7, 1, 6],\n",
       "         [5, 0, 0, 3, 1, 9],\n",
       "         [9, 6, 6, 7, 8, 8]],\n",
       "\n",
       "        [[7, 0, 8, 6, 8, 9],\n",
       "         [8, 3, 6, 1, 7, 4],\n",
       "         [9, 2, 0, 8, 2, 7],\n",
       "         [8, 4, 4, 1, 7, 6],\n",
       "         [9, 4, 1, 5, 9, 7]]],\n",
       "\n",
       "\n",
       "       [[[1, 3, 5, 7, 3, 6],\n",
       "         [6, 7, 9, 1, 9, 6],\n",
       "         [0, 3, 8, 4, 1, 4],\n",
       "         [5, 0, 3, 1, 4, 4],\n",
       "         [4, 0, 0, 8, 4, 6]],\n",
       "\n",
       "        [[9, 3, 3, 2, 1, 2],\n",
       "         [1, 3, 4, 1, 1, 0],\n",
       "         [7, 8, 4, 3, 5, 6],\n",
       "         [3, 2, 9, 8, 1, 4],\n",
       "         [0, 8, 3, 9, 5, 5]],\n",
       "\n",
       "        [[1, 7, 8, 6, 4, 7],\n",
       "         [3, 5, 3, 6, 4, 7],\n",
       "         [3, 0, 5, 9, 3, 7],\n",
       "         [5, 5, 8, 0, 8, 3],\n",
       "         [6, 9, 3, 2, 7, 0]],\n",
       "\n",
       "        [[3, 0, 3, 6, 1, 9],\n",
       "         [2, 9, 4, 9, 1, 3],\n",
       "         [2, 4, 9, 7, 4, 9],\n",
       "         [4, 1, 2, 7, 2, 3],\n",
       "         [9, 7, 6, 6, 2, 3]]]])"
      ]
     },
     "execution_count": 64,
     "metadata": {},
     "output_type": "execute_result"
    }
   ],
   "source": [
    "a5"
   ]
  },
  {
   "cell_type": "code",
   "execution_count": 65,
   "id": "2b57972f-871f-4862-aa9d-ee7011123e70",
   "metadata": {},
   "outputs": [
    {
     "data": {
      "text/plain": [
       "4"
      ]
     },
     "execution_count": 65,
     "metadata": {},
     "output_type": "execute_result"
    }
   ],
   "source": [
    "a5.ndim"
   ]
  },
  {
   "cell_type": "code",
   "execution_count": 66,
   "id": "a4c6c871-335d-4e40-bdb7-21f8240e92c1",
   "metadata": {},
   "outputs": [
    {
     "data": {
      "text/plain": [
       "(3, 4, 5, 6)"
      ]
     },
     "execution_count": 66,
     "metadata": {},
     "output_type": "execute_result"
    }
   ],
   "source": [
    "a5.shape"
   ]
  },
  {
   "cell_type": "code",
   "execution_count": 77,
   "id": "49cad398-e720-4283-a313-99f2742f665f",
   "metadata": {},
   "outputs": [
    {
     "data": {
      "text/plain": [
       "array([[[5, 0, 6, 5],\n",
       "        [6, 6, 7, 0],\n",
       "        [7, 5, 2, 2],\n",
       "        [2, 1, 1, 4]],\n",
       "\n",
       "       [[0, 0, 8, 4],\n",
       "        [3, 8, 0, 8],\n",
       "        [9, 6, 8, 8],\n",
       "        [9, 1, 9, 7]],\n",
       "\n",
       "       [[4, 0, 4, 6],\n",
       "        [0, 3, 5, 5],\n",
       "        [6, 3, 7, 0],\n",
       "        [9, 6, 2, 3]]])"
      ]
     },
     "execution_count": 77,
     "metadata": {},
     "output_type": "execute_result"
    }
   ],
   "source": [
    "a5[:, :, -1, [0,2,4,5]]"
   ]
  },
  {
   "cell_type": "markdown",
   "id": "9dc89b8b-6a29-48e5-bd6c-f336014c4fd8",
   "metadata": {},
   "source": [
    "## Manipulating "
   ]
  },
  {
   "cell_type": "code",
   "execution_count": 78,
   "id": "8bbe5b25-ccd2-4758-ba88-adace0606900",
   "metadata": {},
   "outputs": [
    {
     "data": {
      "text/plain": [
       "array([[2. , 4. , 6.5],\n",
       "       [5.5, 7. , 9.5]])"
      ]
     },
     "execution_count": 78,
     "metadata": {},
     "output_type": "execute_result"
    }
   ],
   "source": [
    "a1 + a2"
   ]
  },
  {
   "cell_type": "code",
   "execution_count": 79,
   "id": "f063b0a8-276e-4583-9476-5bf4d64a1b4c",
   "metadata": {},
   "outputs": [
    {
     "ename": "ValueError",
     "evalue": "operands could not be broadcast together with shapes (3,) (4,4) ",
     "output_type": "error",
     "traceback": [
      "\u001b[0;31m---------------------------------------------------------------------------\u001b[0m",
      "\u001b[0;31mValueError\u001b[0m                                Traceback (most recent call last)",
      "Cell \u001b[0;32mIn[79], line 1\u001b[0m\n\u001b[0;32m----> 1\u001b[0m a1 \u001b[38;5;241m-\u001b[39m ones\n",
      "\u001b[0;31mValueError\u001b[0m: operands could not be broadcast together with shapes (3,) (4,4) "
     ]
    }
   ],
   "source": [
    "a1 - ones"
   ]
  },
  {
   "cell_type": "code",
   "execution_count": 80,
   "id": "da07a463-b241-453c-a5f2-a146329dd90d",
   "metadata": {},
   "outputs": [
    {
     "data": {
      "text/plain": [
       "array([[0. , 0. , 0.5],\n",
       "       [3.5, 3. , 3.5]])"
      ]
     },
     "execution_count": 80,
     "metadata": {},
     "output_type": "execute_result"
    }
   ],
   "source": [
    "a2 - a1"
   ]
  },
  {
   "cell_type": "markdown",
   "id": "835e34f8-aaff-4cde-b2e0-75e284483de4",
   "metadata": {},
   "source": [
    "## Aggregation"
   ]
  },
  {
   "cell_type": "code",
   "execution_count": 82,
   "id": "30a16186-7f78-4760-9967-55eb2f1c320b",
   "metadata": {},
   "outputs": [
    {
     "data": {
      "text/plain": [
       "array([0.68264092, 0.41031969, 0.24035783, 0.27434743, 0.64939861,\n",
       "       0.71290182, 0.97028564, 0.70350781, 0.42191547, 0.24553952])"
      ]
     },
     "execution_count": 82,
     "metadata": {},
     "output_type": "execute_result"
    }
   ],
   "source": [
    "# Create a massive array\n",
    "massive_array = np.random.random(100000)\n",
    "massive_array[:10]"
   ]
  },
  {
   "cell_type": "code",
   "execution_count": 83,
   "id": "4624410a-857d-40d9-b388-6f5b672a8fc3",
   "metadata": {},
   "outputs": [
    {
     "data": {
      "text/plain": [
       "100000"
      ]
     },
     "execution_count": 83,
     "metadata": {},
     "output_type": "execute_result"
    }
   ],
   "source": [
    "massive_array.size"
   ]
  },
  {
   "cell_type": "code",
   "execution_count": 84,
   "id": "87c0bdff-d76b-40ff-9ca5-1f025d63becd",
   "metadata": {},
   "outputs": [
    {
     "name": "stdout",
     "output_type": "stream",
     "text": [
      "11 ms ± 1.78 ms per loop (mean ± std. dev. of 7 runs, 100 loops each)\n",
      "47.3 μs ± 1.05 μs per loop (mean ± std. dev. of 7 runs, 10,000 loops each)\n"
     ]
    }
   ],
   "source": [
    "# We use timeit magic function to see which aggregate functions preferrable according to data types Python/Numpy\n",
    "%timeit sum(massive_array) # Python\n",
    "%timeit np.sum(massive_array) # Numpy's sum"
   ]
  },
  {
   "cell_type": "code",
   "execution_count": 85,
   "id": "ef927b3f-6984-4c06-9d18-7080da8dc883",
   "metadata": {},
   "outputs": [
    {
     "data": {
      "text/plain": [
       "array([[1. , 2. , 3.5],\n",
       "       [4.5, 5. , 6.5]])"
      ]
     },
     "execution_count": 85,
     "metadata": {},
     "output_type": "execute_result"
    }
   ],
   "source": [
    "a2"
   ]
  },
  {
   "cell_type": "code",
   "execution_count": 86,
   "id": "df04bcbd-9186-4989-8903-f19d29c7c83f",
   "metadata": {},
   "outputs": [
    {
     "data": {
      "text/plain": [
       "np.float64(3.75)"
      ]
     },
     "execution_count": 86,
     "metadata": {},
     "output_type": "execute_result"
    }
   ],
   "source": [
    "np.mean(a2)"
   ]
  },
  {
   "cell_type": "code",
   "execution_count": 87,
   "id": "acedd1eb-f3fe-4c58-b562-64911637a573",
   "metadata": {},
   "outputs": [
    {
     "data": {
      "text/plain": [
       "np.float64(6.5)"
      ]
     },
     "execution_count": 87,
     "metadata": {},
     "output_type": "execute_result"
    }
   ],
   "source": [
    "np.max(a2)"
   ]
  },
  {
   "cell_type": "code",
   "execution_count": 88,
   "id": "4bc8dcfe-3ba9-4aac-aff9-d90985475563",
   "metadata": {},
   "outputs": [
    {
     "data": {
      "text/plain": [
       "np.float64(1.0)"
      ]
     },
     "execution_count": 88,
     "metadata": {},
     "output_type": "execute_result"
    }
   ],
   "source": [
    "np.min(a2)"
   ]
  },
  {
   "cell_type": "code",
   "execution_count": 89,
   "id": "bc0e6ed1-a132-42f8-aac4-8e4526fa6ca6",
   "metadata": {},
   "outputs": [
    {
     "data": {
      "text/plain": [
       "np.float64(1.8427786989579984)"
      ]
     },
     "execution_count": 89,
     "metadata": {},
     "output_type": "execute_result"
    }
   ],
   "source": [
    "# Standard Deviation: is a measure of how spread out a group of numbers is from the mean\n",
    "np.std(a2)"
   ]
  },
  {
   "cell_type": "code",
   "execution_count": 90,
   "id": "c309ea3d-68ed-4548-b08f-de465b9a4dd6",
   "metadata": {},
   "outputs": [
    {
     "data": {
      "text/plain": [
       "np.float64(3.3958333333333335)"
      ]
     },
     "execution_count": 90,
     "metadata": {},
     "output_type": "execute_result"
    }
   ],
   "source": [
    "# Variance: is the measure of average degree to which each number is different from the mean\n",
    "# Higher Variance: large range of numbers\n",
    "# Lower Variance: lower range of numbers\n",
    "np.var(a2)"
   ]
  },
  {
   "cell_type": "code",
   "execution_count": 91,
   "id": "a16fc891-1bdd-4610-9770-e91bde5b1dea",
   "metadata": {},
   "outputs": [
    {
     "data": {
      "text/plain": [
       "np.float64(1.8427786989579984)"
      ]
     },
     "execution_count": 91,
     "metadata": {},
     "output_type": "execute_result"
    }
   ],
   "source": [
    "# Standard deviation = square root of variance\n",
    "np.sqrt(np.var(a2))"
   ]
  },
  {
   "cell_type": "markdown",
   "id": "cefc70f0-2024-4ffa-bc0b-4df9dfc214a6",
   "metadata": {},
   "source": [
    "## Demo of std and var"
   ]
  },
  {
   "cell_type": "code",
   "execution_count": 92,
   "id": "50049598-4978-4521-a3fe-cd51ae2637b6",
   "metadata": {},
   "outputs": [],
   "source": [
    "high_range_array = np.array([1, 100, 200, 300, 4000, 5000])\n",
    "low_range_array = np.array([2, 4, 6, 8, 10])"
   ]
  },
  {
   "cell_type": "code",
   "execution_count": 94,
   "id": "03df8df1-8242-4378-8264-69c7a8480898",
   "metadata": {},
   "outputs": [
    {
     "data": {
      "text/plain": [
       "(np.float64(4296133.472222221), np.float64(8.0))"
      ]
     },
     "execution_count": 94,
     "metadata": {},
     "output_type": "execute_result"
    }
   ],
   "source": [
    "np.var(high_range_array), np.var(low_range_array)"
   ]
  },
  {
   "cell_type": "code",
   "execution_count": 95,
   "id": "f18f9af5-8f64-4c4c-ad91-a26d3ee5f532",
   "metadata": {},
   "outputs": [
    {
     "data": {
      "text/plain": [
       "(np.float64(2072.711623024829), np.float64(2.8284271247461903))"
      ]
     },
     "execution_count": 95,
     "metadata": {},
     "output_type": "execute_result"
    }
   ],
   "source": [
    "np.std(high_range_array), np.std(low_range_array)"
   ]
  },
  {
   "cell_type": "code",
   "execution_count": 96,
   "id": "7e19b3ec-5158-4953-9c3c-a109b239f591",
   "metadata": {},
   "outputs": [
    {
     "data": {
      "text/plain": [
       "(np.float64(1600.1666666666667), np.float64(6.0))"
      ]
     },
     "execution_count": 96,
     "metadata": {},
     "output_type": "execute_result"
    }
   ],
   "source": [
    "np.mean(high_range_array), np.mean(low_range_array)"
   ]
  },
  {
   "cell_type": "code",
   "execution_count": 98,
   "id": "acced020-8866-4e95-86d1-f513e4901ba1",
   "metadata": {},
   "outputs": [
    {
     "data": {
      "image/png": "[encoded data removed]",
      "text/plain": [
       "<Figure size 640x480 with 1 Axes>"
      ]
     },
     "metadata": {},
     "output_type": "display_data"
    }
   ],
   "source": [
    "%matplotlib inline\n",
    "import matplotlib.pyplot as plt\n",
    "\n",
    "plt.hist(high_range_array)\n",
    "plt.show()"
   ]
  },
  {
   "cell_type": "code",
   "execution_count": 99,
   "id": "08373950-8eb0-4037-b4e8-a98e66bd7f39",
   "metadata": {},
   "outputs": [
    {
     "data": {
      "image/png": "[encoded data removed]",
      "text/plain": [
       "<Figure size 640x480 with 1 Axes>"
      ]
     },
     "metadata": {},
     "output_type": "display_data"
    }
   ],
   "source": [
    "plt.hist(low_range_array)\n",
    "plt.show()"
   ]
  },
  {
   "cell_type": "markdown",
   "id": "daa2b11c-5db0-4fde-aa8c-fa6eac0d6602",
   "metadata": {},
   "source": [
    "### Reshaping & Transposing"
   ]
  },
  {
   "cell_type": "code",
   "execution_count": 100,
   "id": "0583b86d-caf6-4fc1-8f7a-80116af30900",
   "metadata": {},
   "outputs": [
    {
     "data": {
      "text/plain": [
       "array([[1. , 2. , 3.5],\n",
       "       [4.5, 5. , 6.5]])"
      ]
     },
     "execution_count": 100,
     "metadata": {},
     "output_type": "execute_result"
    }
   ],
   "source": [
    "a2"
   ]
  },
  {
   "cell_type": "code",
   "execution_count": 101,
   "id": "d0a2ca8b-95dc-4e31-b103-2c8b4af0098a",
   "metadata": {},
   "outputs": [
    {
     "data": {
      "text/plain": [
       "(2, 3)"
      ]
     },
     "execution_count": 101,
     "metadata": {},
     "output_type": "execute_result"
    }
   ],
   "source": [
    "a2.shape"
   ]
  },
  {
   "cell_type": "code",
   "execution_count": 102,
   "id": "9878a51d-a16a-49bc-8f56-89fddf091b98",
   "metadata": {},
   "outputs": [
    {
     "ename": "ValueError",
     "evalue": "operands could not be broadcast together with shapes (2,3) (2,3,3) ",
     "output_type": "error",
     "traceback": [
      "\u001b[0;31m---------------------------------------------------------------------------\u001b[0m",
      "\u001b[0;31mValueError\u001b[0m                                Traceback (most recent call last)",
      "Cell \u001b[0;32mIn[102], line 1\u001b[0m\n\u001b[0;32m----> 1\u001b[0m a2 \u001b[38;5;241m*\u001b[39m a3\n",
      "\u001b[0;31mValueError\u001b[0m: operands could not be broadcast together with shapes (2,3) (2,3,3) "
     ]
    }
   ],
   "source": [
    "a2 * a3"
   ]
  },
  {
   "cell_type": "code",
   "execution_count": 103,
   "id": "ae611d37-1209-4eb6-9061-bbc79881077e",
   "metadata": {},
   "outputs": [
    {
     "data": {
      "text/plain": [
       "(2, 3, 3)"
      ]
     },
     "execution_count": 103,
     "metadata": {},
     "output_type": "execute_result"
    }
   ],
   "source": [
    "a3.shape"
   ]
  },
  {
   "cell_type": "code",
   "execution_count": 104,
   "id": "4bd14f2a-7bb6-44e4-8f6c-90005dea5ebf",
   "metadata": {},
   "outputs": [
    {
     "data": {
      "text/plain": [
       "(2, 3, 1)"
      ]
     },
     "execution_count": 104,
     "metadata": {},
     "output_type": "execute_result"
    }
   ],
   "source": [
    "a2.reshape(2, 3, 1).shape"
   ]
  },
  {
   "cell_type": "code",
   "execution_count": 105,
   "id": "39babec9-1aba-44a1-8df7-3d80b0047868",
   "metadata": {},
   "outputs": [],
   "source": [
    "reshape_array = a2.reshape(2, 3, 1)"
   ]
  },
  {
   "cell_type": "code",
   "execution_count": 106,
   "id": "91a50fe9-5c33-4598-8429-eff059a58e89",
   "metadata": {},
   "outputs": [
    {
     "data": {
      "text/plain": [
       "array([[[  1. ,   2. ,   3. ],\n",
       "        [  8. ,  10. ,  12. ],\n",
       "        [ 24.5,  28. ,  31.5]],\n",
       "\n",
       "       [[ 45. ,  49.5,  54. ],\n",
       "        [ 65. ,  70. ,  75. ],\n",
       "        [104. , 110.5, 117. ]]])"
      ]
     },
     "execution_count": 106,
     "metadata": {},
     "output_type": "execute_result"
    }
   ],
   "source": [
    "reshape_array * a3"
   ]
  },
  {
   "cell_type": "code",
   "execution_count": 107,
   "id": "df987a19-3ffe-43f2-9aac-963cdba3230b",
   "metadata": {},
   "outputs": [
    {
     "data": {
      "text/plain": [
       "array([[1. , 2. , 3.5],\n",
       "       [4.5, 5. , 6.5]])"
      ]
     },
     "execution_count": 107,
     "metadata": {},
     "output_type": "execute_result"
    }
   ],
   "source": [
    "# Transpose\n",
    "a2"
   ]
  },
  {
   "cell_type": "code",
   "execution_count": 108,
   "id": "916454ee-00aa-45bd-9fef-a5329277700c",
   "metadata": {},
   "outputs": [
    {
     "data": {
      "text/plain": [
       "(2, 3)"
      ]
     },
     "execution_count": 108,
     "metadata": {},
     "output_type": "execute_result"
    }
   ],
   "source": [
    "a2.shape"
   ]
  },
  {
   "cell_type": "code",
   "execution_count": 109,
   "id": "8330664b-41cf-474d-8074-65ba08877a46",
   "metadata": {},
   "outputs": [
    {
     "data": {
      "text/plain": [
       "(3, 2)"
      ]
     },
     "execution_count": 109,
     "metadata": {},
     "output_type": "execute_result"
    }
   ],
   "source": [
    "a2.T.shape"
   ]
  },
  {
   "cell_type": "markdown",
   "id": "f91693d1-2fc2-485e-ba90-262593fa3734",
   "metadata": {},
   "source": [
    "## Dot product"
   ]
  },
  {
   "cell_type": "code",
   "execution_count": 113,
   "id": "958b55d9-d02e-4796-acc2-80e9edd848c4",
   "metadata": {},
   "outputs": [],
   "source": [
    "np.random.seed(0)\n",
    "\n",
    "mat1 = np.random.randint(10, size=(5, 3))\n",
    "mat2 = np.random.randint(10, size=(5, 3))"
   ]
  },
  {
   "cell_type": "code",
   "execution_count": 114,
   "id": "f1d81b25-f661-4189-830f-64377cbf9c4e",
   "metadata": {},
   "outputs": [
    {
     "data": {
      "text/plain": [
       "array([[5, 0, 3],\n",
       "       [3, 7, 9],\n",
       "       [3, 5, 2],\n",
       "       [4, 7, 6],\n",
       "       [8, 8, 1]])"
      ]
     },
     "execution_count": 114,
     "metadata": {},
     "output_type": "execute_result"
    }
   ],
   "source": [
    "mat1"
   ]
  },
  {
   "cell_type": "code",
   "execution_count": 115,
   "id": "07aa1686-ee33-48cd-a991-28b4e7fc6da7",
   "metadata": {},
   "outputs": [
    {
     "data": {
      "text/plain": [
       "array([[6, 7, 7],\n",
       "       [8, 1, 5],\n",
       "       [9, 8, 9],\n",
       "       [4, 3, 0],\n",
       "       [3, 5, 0]])"
      ]
     },
     "execution_count": 115,
     "metadata": {},
     "output_type": "execute_result"
    }
   ],
   "source": [
    "mat2"
   ]
  },
  {
   "cell_type": "code",
   "execution_count": 116,
   "id": "0c3a7570-27e2-4b06-ad65-502f116bee7f",
   "metadata": {},
   "outputs": [
    {
     "data": {
      "text/plain": [
       "((5, 3), (5, 3))"
      ]
     },
     "execution_count": 116,
     "metadata": {},
     "output_type": "execute_result"
    }
   ],
   "source": [
    "mat1.shape, mat2.shape"
   ]
  },
  {
   "cell_type": "code",
   "execution_count": 117,
   "id": "f242650a-03a4-4d06-b055-7acce8c9c858",
   "metadata": {},
   "outputs": [
    {
     "data": {
      "text/plain": [
       "array([[30,  0, 21],\n",
       "       [24,  7, 45],\n",
       "       [27, 40, 18],\n",
       "       [16, 21,  0],\n",
       "       [24, 40,  0]])"
      ]
     },
     "execution_count": 117,
     "metadata": {},
     "output_type": "execute_result"
    }
   ],
   "source": [
    "# Element-wise multiplications or Hadamard\n",
    "mat1 * mat2"
   ]
  },
  {
   "cell_type": "code",
   "execution_count": 118,
   "id": "a87e161d-2a29-4bfe-a1e8-9ccd9959cbfd",
   "metadata": {},
   "outputs": [
    {
     "ename": "ValueError",
     "evalue": "shapes (5,3) and (5,3) not aligned: 3 (dim 1) != 5 (dim 0)",
     "output_type": "error",
     "traceback": [
      "\u001b[0;31m---------------------------------------------------------------------------\u001b[0m",
      "\u001b[0;31mValueError\u001b[0m                                Traceback (most recent call last)",
      "Cell \u001b[0;32mIn[118], line 1\u001b[0m\n\u001b[0;32m----> 1\u001b[0m np\u001b[38;5;241m.\u001b[39mdot(mat1, mat2)\n",
      "\u001b[0;31mValueError\u001b[0m: shapes (5,3) and (5,3) not aligned: 3 (dim 1) != 5 (dim 0)"
     ]
    }
   ],
   "source": [
    "np.dot(mat1, mat2)"
   ]
  },
  {
   "cell_type": "markdown",
   "id": "f139ee7c-8b3b-48d4-a72a-8e3bd0b13178",
   "metadata": {},
   "source": [
    "### The way to handle dot product is a bit different by using Transpose on one matrix"
   ]
  },
  {
   "cell_type": "code",
   "execution_count": 119,
   "id": "d3c4e618-c97b-4eba-8f28-6c8ca9700955",
   "metadata": {},
   "outputs": [
    {
     "data": {
      "text/plain": [
       "array([[ 51,  55,  72,  20,  15],\n",
       "       [130,  76, 164,  33,  44],\n",
       "       [ 67,  39,  85,  27,  34],\n",
       "       [115,  69, 146,  37,  47],\n",
       "       [111,  77, 145,  56,  64]])"
      ]
     },
     "execution_count": 119,
     "metadata": {},
     "output_type": "execute_result"
    }
   ],
   "source": [
    "mat3 = np.dot(mat1, mat2.T)\n",
    "mat3"
   ]
  },
  {
   "cell_type": "markdown",
   "id": "da607c9b-94a1-48bc-86b4-f7adb864cade",
   "metadata": {},
   "source": [
    "## Dot product example (Nut butter sales)"
   ]
  },
  {
   "cell_type": "code",
   "execution_count": 120,
   "id": "ba13babe-fb0d-45fa-904a-351d17aa5218",
   "metadata": {},
   "outputs": [
    {
     "data": {
      "text/plain": [
       "array([[12, 15,  0],\n",
       "       [ 3,  3,  7],\n",
       "       [ 9, 19, 18],\n",
       "       [ 4,  6, 12],\n",
       "       [ 1,  6,  7]])"
      ]
     },
     "execution_count": 120,
     "metadata": {},
     "output_type": "execute_result"
    }
   ],
   "source": [
    "np.random.seed(0)\n",
    "\n",
    "sales_amount = np.random.randint(20, size=(5, 3))\n",
    "sales_amount"
   ]
  },
  {
   "cell_type": "code",
   "execution_count": 122,
   "id": "92b2d7b2-3905-48fc-a9f0-1d8bbadee370",
   "metadata": {},
   "outputs": [],
   "source": [
    "weekly_sales_cols = ['Almond Butter', 'Peanut Butter', 'Cashew Butter']"
   ]
  },
  {
   "cell_type": "code",
   "execution_count": 123,
   "id": "5fe7123f-5686-4a2c-ae5c-a3f180b54dae",
   "metadata": {},
   "outputs": [
    {
     "data": {
      "text/html": [
       "<div>\n",
       "<style scoped>\n",
       "    .dataframe tbody tr th:only-of-type {\n",
       "        vertical-align: middle;\n",
       "    }\n",
       "\n",
       "    .dataframe tbody tr th {\n",
       "        vertical-align: top;\n",
       "    }\n",
       "\n",
       "    .dataframe thead th {\n",
       "        text-align: right;\n",
       "    }\n",
       "</style>\n",
       "<table border=\"1\" class=\"dataframe\">\n",
       "  <thead>\n",
       "    <tr style=\"text-align: right;\">\n",
       "      <th></th>\n",
       "      <th>Almond Butter</th>\n",
       "      <th>Peanut Butter</th>\n",
       "      <th>Cashew Butter</th>\n",
       "    </tr>\n",
       "  </thead>\n",
       "  <tbody>\n",
       "    <tr>\n",
       "      <th>Mon</th>\n",
       "      <td>12</td>\n",
       "      <td>15</td>\n",
       "      <td>0</td>\n",
       "    </tr>\n",
       "    <tr>\n",
       "      <th>Tue</th>\n",
       "      <td>3</td>\n",
       "      <td>3</td>\n",
       "      <td>7</td>\n",
       "    </tr>\n",
       "    <tr>\n",
       "      <th>Wed</th>\n",
       "      <td>9</td>\n",
       "      <td>19</td>\n",
       "      <td>18</td>\n",
       "    </tr>\n",
       "    <tr>\n",
       "      <th>Thu</th>\n",
       "      <td>4</td>\n",
       "      <td>6</td>\n",
       "      <td>12</td>\n",
       "    </tr>\n",
       "    <tr>\n",
       "      <th>Fri</th>\n",
       "      <td>1</td>\n",
       "      <td>6</td>\n",
       "      <td>7</td>\n",
       "    </tr>\n",
       "  </tbody>\n",
       "</table>\n",
       "</div>"
      ],
      "text/plain": [
       "     Almond Butter  Peanut Butter  Cashew Butter\n",
       "Mon             12             15              0\n",
       "Tue              3              3              7\n",
       "Wed              9             19             18\n",
       "Thu              4              6             12\n",
       "Fri              1              6              7"
      ]
     },
     "execution_count": 123,
     "metadata": {},
     "output_type": "execute_result"
    }
   ],
   "source": [
    "weekly_sales = pd.DataFrame(sales_amount,\n",
    "                           index=['Mon', 'Tue', 'Wed', 'Thu', 'Fri'],\n",
    "                           columns=weekly_sales_cols)\n",
    "weekly_sales"
   ]
  },
  {
   "cell_type": "code",
   "execution_count": 124,
   "id": "81513047-dee2-4546-9390-db8798565ac7",
   "metadata": {},
   "outputs": [
    {
     "data": {
      "text/plain": [
       "array([10,  8, 12])"
      ]
     },
     "execution_count": 124,
     "metadata": {},
     "output_type": "execute_result"
    }
   ],
   "source": [
    "# Create prices\n",
    "prices = np.array([10, 8, 12])\n",
    "prices"
   ]
  },
  {
   "cell_type": "code",
   "execution_count": 127,
   "id": "1b6a8aff-4679-432f-9bee-0e452ca05dfb",
   "metadata": {},
   "outputs": [
    {
     "data": {
      "text/html": [
       "<div>\n",
       "<style scoped>\n",
       "    .dataframe tbody tr th:only-of-type {\n",
       "        vertical-align: middle;\n",
       "    }\n",
       "\n",
       "    .dataframe tbody tr th {\n",
       "        vertical-align: top;\n",
       "    }\n",
       "\n",
       "    .dataframe thead th {\n",
       "        text-align: right;\n",
       "    }\n",
       "</style>\n",
       "<table border=\"1\" class=\"dataframe\">\n",
       "  <thead>\n",
       "    <tr style=\"text-align: right;\">\n",
       "      <th></th>\n",
       "      <th>Almond Butter</th>\n",
       "      <th>Peanut Butter</th>\n",
       "      <th>Cashew Butter</th>\n",
       "    </tr>\n",
       "  </thead>\n",
       "  <tbody>\n",
       "    <tr>\n",
       "      <th>Price</th>\n",
       "      <td>10</td>\n",
       "      <td>8</td>\n",
       "      <td>12</td>\n",
       "    </tr>\n",
       "  </tbody>\n",
       "</table>\n",
       "</div>"
      ],
      "text/plain": [
       "       Almond Butter  Peanut Butter  Cashew Butter\n",
       "Price             10              8             12"
      ]
     },
     "execution_count": 127,
     "metadata": {},
     "output_type": "execute_result"
    }
   ],
   "source": [
    "butter_prices = pd.DataFrame(prices.reshape(1, 3),\n",
    "                            index=['Price'],\n",
    "                            columns=weekly_sales_cols)\n",
    "butter_prices"
   ]
  },
  {
   "cell_type": "code",
   "execution_count": 128,
   "id": "c387ee47-aec9-44fa-89ed-ec6e493d4310",
   "metadata": {},
   "outputs": [
    {
     "data": {
      "text/plain": [
       "(3,)"
      ]
     },
     "execution_count": 128,
     "metadata": {},
     "output_type": "execute_result"
    }
   ],
   "source": [
    "prices.shape"
   ]
  },
  {
   "cell_type": "code",
   "execution_count": 129,
   "id": "c566a778-dd99-4612-a587-d0343758d96e",
   "metadata": {},
   "outputs": [
    {
     "data": {
      "text/plain": [
       "(5, 3)"
      ]
     },
     "execution_count": 129,
     "metadata": {},
     "output_type": "execute_result"
    }
   ],
   "source": [
    "sales_amount.shape"
   ]
  },
  {
   "cell_type": "code",
   "execution_count": 130,
   "id": "08f77929-9909-453e-a4c2-8e8c8d36b06b",
   "metadata": {},
   "outputs": [
    {
     "ename": "ValueError",
     "evalue": "shapes (3,) and (5,3) not aligned: 3 (dim 0) != 5 (dim 0)",
     "output_type": "error",
     "traceback": [
      "\u001b[0;31m---------------------------------------------------------------------------\u001b[0m",
      "\u001b[0;31mValueError\u001b[0m                                Traceback (most recent call last)",
      "Cell \u001b[0;32mIn[130], line 1\u001b[0m\n\u001b[0;32m----> 1\u001b[0m total_sales \u001b[38;5;241m=\u001b[39m prices\u001b[38;5;241m.\u001b[39mdot(sales_amount)\n",
      "\u001b[0;31mValueError\u001b[0m: shapes (3,) and (5,3) not aligned: 3 (dim 0) != 5 (dim 0)"
     ]
    }
   ],
   "source": [
    "total_sales = prices.dot(sales_amount)"
   ]
  },
  {
   "cell_type": "code",
   "execution_count": 132,
   "id": "ce071e90-ad91-4d7d-b426-1c70c6fb9174",
   "metadata": {},
   "outputs": [
    {
     "data": {
      "text/plain": [
       "array([240, 138, 458, 232, 142])"
      ]
     },
     "execution_count": 132,
     "metadata": {},
     "output_type": "execute_result"
    }
   ],
   "source": [
    "total_sales = prices.dot(sales_amount.T)\n",
    "total_sales"
   ]
  },
  {
   "cell_type": "code",
   "execution_count": 134,
   "id": "35c9cc87-9208-405f-8bee-38c30dd1b207",
   "metadata": {},
   "outputs": [
    {
     "data": {
      "text/plain": [
       "((1, 3), (5, 3))"
      ]
     },
     "execution_count": 134,
     "metadata": {},
     "output_type": "execute_result"
    }
   ],
   "source": [
    "butter_prices.shape, weekly_sales.shape"
   ]
  },
  {
   "cell_type": "code",
   "execution_count": 136,
   "id": "4b9b8763-29a4-46fd-bdcf-dd5e97428506",
   "metadata": {},
   "outputs": [
    {
     "data": {
      "text/plain": [
       "(3, 5)"
      ]
     },
     "execution_count": 136,
     "metadata": {},
     "output_type": "execute_result"
    }
   ],
   "source": [
    "weekly_sales.T.shape"
   ]
  },
  {
   "cell_type": "code",
   "execution_count": 135,
   "id": "788cad24-1a3a-47f6-8c1c-27a74c49c98a",
   "metadata": {},
   "outputs": [
    {
     "data": {
      "text/html": [
       "<div>\n",
       "<style scoped>\n",
       "    .dataframe tbody tr th:only-of-type {\n",
       "        vertical-align: middle;\n",
       "    }\n",
       "\n",
       "    .dataframe tbody tr th {\n",
       "        vertical-align: top;\n",
       "    }\n",
       "\n",
       "    .dataframe thead th {\n",
       "        text-align: right;\n",
       "    }\n",
       "</style>\n",
       "<table border=\"1\" class=\"dataframe\">\n",
       "  <thead>\n",
       "    <tr style=\"text-align: right;\">\n",
       "      <th></th>\n",
       "      <th>Mon</th>\n",
       "      <th>Tue</th>\n",
       "      <th>Wed</th>\n",
       "      <th>Thu</th>\n",
       "      <th>Fri</th>\n",
       "    </tr>\n",
       "  </thead>\n",
       "  <tbody>\n",
       "    <tr>\n",
       "      <th>Price</th>\n",
       "      <td>240</td>\n",
       "      <td>138</td>\n",
       "      <td>458</td>\n",
       "      <td>232</td>\n",
       "      <td>142</td>\n",
       "    </tr>\n",
       "  </tbody>\n",
       "</table>\n",
       "</div>"
      ],
      "text/plain": [
       "       Mon  Tue  Wed  Thu  Fri\n",
       "Price  240  138  458  232  142"
      ]
     },
     "execution_count": 135,
     "metadata": {},
     "output_type": "execute_result"
    }
   ],
   "source": [
    "daily_sales = butter_prices.dot(weekly_sales.T)\n",
    "daily_sales"
   ]
  },
  {
   "cell_type": "code",
   "execution_count": 137,
   "id": "195a8153-65b7-4491-b613-49145254ce68",
   "metadata": {},
   "outputs": [],
   "source": [
    "weekly_sales['Total ($)'] = daily_sales.T"
   ]
  },
  {
   "cell_type": "code",
   "execution_count": 138,
   "id": "ccb91eab-8b4f-4479-8381-171781e47cbd",
   "metadata": {},
   "outputs": [
    {
     "data": {
      "text/html": [
       "<div>\n",
       "<style scoped>\n",
       "    .dataframe tbody tr th:only-of-type {\n",
       "        vertical-align: middle;\n",
       "    }\n",
       "\n",
       "    .dataframe tbody tr th {\n",
       "        vertical-align: top;\n",
       "    }\n",
       "\n",
       "    .dataframe thead th {\n",
       "        text-align: right;\n",
       "    }\n",
       "</style>\n",
       "<table border=\"1\" class=\"dataframe\">\n",
       "  <thead>\n",
       "    <tr style=\"text-align: right;\">\n",
       "      <th></th>\n",
       "      <th>Almond Butter</th>\n",
       "      <th>Peanut Butter</th>\n",
       "      <th>Cashew Butter</th>\n",
       "      <th>Total ($)</th>\n",
       "    </tr>\n",
       "  </thead>\n",
       "  <tbody>\n",
       "    <tr>\n",
       "      <th>Mon</th>\n",
       "      <td>12</td>\n",
       "      <td>15</td>\n",
       "      <td>0</td>\n",
       "      <td>240</td>\n",
       "    </tr>\n",
       "    <tr>\n",
       "      <th>Tue</th>\n",
       "      <td>3</td>\n",
       "      <td>3</td>\n",
       "      <td>7</td>\n",
       "      <td>138</td>\n",
       "    </tr>\n",
       "    <tr>\n",
       "      <th>Wed</th>\n",
       "      <td>9</td>\n",
       "      <td>19</td>\n",
       "      <td>18</td>\n",
       "      <td>458</td>\n",
       "    </tr>\n",
       "    <tr>\n",
       "      <th>Thu</th>\n",
       "      <td>4</td>\n",
       "      <td>6</td>\n",
       "      <td>12</td>\n",
       "      <td>232</td>\n",
       "    </tr>\n",
       "    <tr>\n",
       "      <th>Fri</th>\n",
       "      <td>1</td>\n",
       "      <td>6</td>\n",
       "      <td>7</td>\n",
       "      <td>142</td>\n",
       "    </tr>\n",
       "  </tbody>\n",
       "</table>\n",
       "</div>"
      ],
      "text/plain": [
       "     Almond Butter  Peanut Butter  Cashew Butter  Total ($)\n",
       "Mon             12             15              0        240\n",
       "Tue              3              3              7        138\n",
       "Wed              9             19             18        458\n",
       "Thu              4              6             12        232\n",
       "Fri              1              6              7        142"
      ]
     },
     "execution_count": 138,
     "metadata": {},
     "output_type": "execute_result"
    }
   ],
   "source": [
    "weekly_sales"
   ]
  },
  {
   "cell_type": "markdown",
   "id": "ece877bc-8062-4dd9-b343-401d04bc903c",
   "metadata": {},
   "source": [
    "## Comparison Operator"
   ]
  },
  {
   "cell_type": "code",
   "execution_count": 139,
   "id": "5ba9bb01-d73d-45cc-9861-1e51ddf19356",
   "metadata": {},
   "outputs": [
    {
     "data": {
      "text/plain": [
       "array([[False, False, False],\n",
       "       [False, False, False]])"
      ]
     },
     "execution_count": 139,
     "metadata": {},
     "output_type": "execute_result"
    }
   ],
   "source": [
    "a1 > a2"
   ]
  },
  {
   "cell_type": "code",
   "execution_count": 140,
   "id": "2b98dd2a-6c81-4369-9088-a393466c246e",
   "metadata": {},
   "outputs": [
    {
     "data": {
      "text/plain": [
       "array([[ True,  True,  True],\n",
       "       [ True,  True,  True]])"
      ]
     },
     "execution_count": 140,
     "metadata": {},
     "output_type": "execute_result"
    }
   ],
   "source": [
    "a1 <= a2"
   ]
  },
  {
   "cell_type": "code",
   "execution_count": 141,
   "id": "29c99c7b-4332-4951-95bc-24c9ac4b5106",
   "metadata": {},
   "outputs": [
    {
     "data": {
      "text/plain": [
       "array([[ True,  True, False],\n",
       "       [False, False, False]])"
      ]
     },
     "execution_count": 141,
     "metadata": {},
     "output_type": "execute_result"
    }
   ],
   "source": [
    "a1 == a2"
   ]
  },
  {
   "cell_type": "markdown",
   "id": "15eb8996-e22a-4da3-86ea-070a9bcec459",
   "metadata": {},
   "source": [
    "## Sorting arrays"
   ]
  },
  {
   "cell_type": "code",
   "execution_count": 142,
   "id": "64483bef-b00a-4b0b-b822-b86d4957cc59",
   "metadata": {},
   "outputs": [
    {
     "data": {
      "text/plain": [
       "array([2, 2, 4, 2, 4, 4, 1, 1, 2, 3])"
      ]
     },
     "execution_count": 142,
     "metadata": {},
     "output_type": "execute_result"
    }
   ],
   "source": [
    "random_array"
   ]
  },
  {
   "cell_type": "code",
   "execution_count": 143,
   "id": "059f0fb9-38b6-4152-acec-f7162e9eeda6",
   "metadata": {},
   "outputs": [
    {
     "data": {
      "text/plain": [
       "array([[7, 8, 1, 5, 9],\n",
       "       [8, 9, 4, 3, 0],\n",
       "       [3, 5, 0, 2, 3]])"
      ]
     },
     "execution_count": 143,
     "metadata": {},
     "output_type": "execute_result"
    }
   ],
   "source": [
    "random_array = np.random.randint(10, size=(3, 5))\n",
    "random_array"
   ]
  },
  {
   "cell_type": "code",
   "execution_count": 144,
   "id": "52675447-487c-4603-a0dc-544fe4d980d9",
   "metadata": {},
   "outputs": [
    {
     "data": {
      "text/plain": [
       "array([[1, 5, 7, 8, 9],\n",
       "       [0, 3, 4, 8, 9],\n",
       "       [0, 2, 3, 3, 5]])"
      ]
     },
     "execution_count": 144,
     "metadata": {},
     "output_type": "execute_result"
    }
   ],
   "source": [
    "np.sort(random_array)"
   ]
  },
  {
   "cell_type": "code",
   "execution_count": 145,
   "id": "17213e81-bd39-494a-b4dd-8ddc924ff269",
   "metadata": {},
   "outputs": [
    {
     "data": {
      "text/plain": [
       "array([[2, 3, 0, 1, 4],\n",
       "       [4, 3, 2, 0, 1],\n",
       "       [2, 3, 0, 4, 1]])"
      ]
     },
     "execution_count": 145,
     "metadata": {},
     "output_type": "execute_result"
    }
   ],
   "source": [
    "np.argsort(random_array)"
   ]
  },
  {
   "cell_type": "code",
   "execution_count": 146,
   "id": "c46410ee-ac18-40e4-9de0-412cc89c3ee0",
   "metadata": {},
   "outputs": [
    {
     "data": {
      "text/plain": [
       "np.int64(9)"
      ]
     },
     "execution_count": 146,
     "metadata": {},
     "output_type": "execute_result"
    }
   ],
   "source": [
    "np.argmin(random_array)"
   ]
  },
  {
   "cell_type": "code",
   "execution_count": 147,
   "id": "53469600-c1d7-4c69-b96a-8a4b8db1ea78",
   "metadata": {},
   "outputs": [
    {
     "data": {
      "text/plain": [
       "np.int64(4)"
      ]
     },
     "execution_count": 147,
     "metadata": {},
     "output_type": "execute_result"
    }
   ],
   "source": [
    "np.argmax(random_array)"
   ]
  },
  {
   "cell_type": "markdown",
   "id": "4f018e7e-2043-44e9-80cb-0cdda99af9de",
   "metadata": {},
   "source": [
    "## Practical Example: Numpy in Action!!!!"
   ]
  },
  {
   "cell_type": "markdown",
   "id": "99f00827-82dc-4de8-a103-d6a470a3e913",
   "metadata": {},
   "source": [
    "<img src=\"images/panda.png\" />"
   ]
  },
  {
   "cell_type": "code",
   "execution_count": 148,
   "id": "56da9d6f-cb7d-4bcc-96d6-7db99c33bfe8",
   "metadata": {},
   "outputs": [
    {
     "name": "stdout",
     "output_type": "stream",
     "text": [
      "<class 'numpy.ndarray'>\n"
     ]
    }
   ],
   "source": [
    "from matplotlib.image import imread\n",
    "\n",
    "panda = imread('images/panda.png')\n",
    "\n",
    "print(type(panda))"
   ]
  },
  {
   "cell_type": "code",
   "execution_count": 149,
   "id": "61ff0e54-ec26-4df1-b2ec-f20477be922a",
   "metadata": {},
   "outputs": [
    {
     "data": {
      "text/plain": [
       "array([[[0.05490196, 0.10588235, 0.06666667],\n",
       "        [0.05490196, 0.10588235, 0.06666667],\n",
       "        [0.05490196, 0.10588235, 0.06666667],\n",
       "        ...,\n",
       "        [0.16470589, 0.12941177, 0.09411765],\n",
       "        [0.16470589, 0.12941177, 0.09411765],\n",
       "        [0.16470589, 0.12941177, 0.09411765]],\n",
       "\n",
       "       [[0.05490196, 0.10588235, 0.06666667],\n",
       "        [0.05490196, 0.10588235, 0.06666667],\n",
       "        [0.05490196, 0.10588235, 0.06666667],\n",
       "        ...,\n",
       "        [0.16470589, 0.12941177, 0.09411765],\n",
       "        [0.16470589, 0.12941177, 0.09411765],\n",
       "        [0.16470589, 0.12941177, 0.09411765]],\n",
       "\n",
       "       [[0.05490196, 0.10588235, 0.06666667],\n",
       "        [0.05490196, 0.10588235, 0.06666667],\n",
       "        [0.05490196, 0.10588235, 0.06666667],\n",
       "        ...,\n",
       "        [0.16470589, 0.12941177, 0.09411765],\n",
       "        [0.16470589, 0.12941177, 0.09411765],\n",
       "        [0.16470589, 0.12941177, 0.09411765]],\n",
       "\n",
       "       [[0.05490196, 0.10588235, 0.06666667],\n",
       "        [0.05490196, 0.10588235, 0.06666667],\n",
       "        [0.05490196, 0.10588235, 0.06666667],\n",
       "        ...,\n",
       "        [0.16862746, 0.13333334, 0.09803922],\n",
       "        [0.16862746, 0.13333334, 0.09803922],\n",
       "        [0.16862746, 0.13333334, 0.09803922]],\n",
       "\n",
       "       [[0.05490196, 0.10588235, 0.06666667],\n",
       "        [0.05490196, 0.10588235, 0.06666667],\n",
       "        [0.05490196, 0.10588235, 0.06666667],\n",
       "        ...,\n",
       "        [0.16862746, 0.13333334, 0.09803922],\n",
       "        [0.16862746, 0.13333334, 0.09803922],\n",
       "        [0.16862746, 0.13333334, 0.09803922]]],\n",
       "      shape=(5, 3500, 3), dtype=float32)"
      ]
     },
     "execution_count": 149,
     "metadata": {},
     "output_type": "execute_result"
    }
   ],
   "source": [
    "panda[:5]"
   ]
  },
  {
   "cell_type": "code",
   "execution_count": 150,
   "id": "aefb9386-80fd-4036-a28f-ff17dce69267",
   "metadata": {},
   "outputs": [
    {
     "data": {
      "text/plain": [
       "(3, (2330, 3500, 3), 24465000)"
      ]
     },
     "execution_count": 150,
     "metadata": {},
     "output_type": "execute_result"
    }
   ],
   "source": [
    "panda.ndim, panda.shape, panda.size"
   ]
  },
  {
   "cell_type": "code",
   "execution_count": 151,
   "id": "71ee2c8f-b7fd-4b30-b497-2797c3c87ce1",
   "metadata": {},
   "outputs": [
    {
     "data": {
      "text/plain": [
       "dtype('float32')"
      ]
     },
     "execution_count": 151,
     "metadata": {},
     "output_type": "execute_result"
    }
   ],
   "source": [
    "panda.dtype"
   ]
  },
  {
   "cell_type": "markdown",
   "id": "a88138a6-e1df-4829-a111-b13e4ba1fbc8",
   "metadata": {},
   "source": [
    "<img src='images/car-photo.png' />"
   ]
  },
  {
   "cell_type": "code",
   "execution_count": 154,
   "id": "6a826381-e821-43ec-9b02-04d502095223",
   "metadata": {},
   "outputs": [
    {
     "name": "stdout",
     "output_type": "stream",
     "text": [
      "<class 'numpy.ndarray'>\n"
     ]
    }
   ],
   "source": [
    "car = imread('images/car-photo.png')\n",
    "print(type(car))"
   ]
  },
  {
   "cell_type": "markdown",
   "id": "684d23f4-2f68-4537-bb72-74f043c3c791",
   "metadata": {},
   "source": [
    "<img src='images/dog-photo.png' />"
   ]
  },
  {
   "cell_type": "code",
   "execution_count": 157,
   "id": "47ef306e-39fd-4f2a-a7ca-dea51b02b777",
   "metadata": {},
   "outputs": [],
   "source": [
    "dog = imread('images/dog-photo.png')"
   ]
  },
  {
   "cell_type": "code",
   "execution_count": 159,
   "id": "1a151534-e876-4f9a-bf64-718f2ed6a8c5",
   "metadata": {},
   "outputs": [
    {
     "data": {
      "text/plain": [
       "numpy.ndarray"
      ]
     },
     "execution_count": 159,
     "metadata": {},
     "output_type": "execute_result"
    }
   ],
   "source": [
    "type(dog)"
   ]
  },
  {
   "cell_type": "code",
   "execution_count": null,
   "id": "902c9642-b30c-4aac-b2ed-1074cc1cf67f",
   "metadata": {},
   "outputs": [],
   "source": []
  }
 ],
 "metadata": {
  "kernelspec": {
   "display_name": "Python 3 (ipykernel)",
   "language": "python",
   "name": "python3"
  },
  "language_info": {
   "codemirror_mode": {
    "name": "ipython",
    "version": 3
   },
   "file_extension": ".py",
   "mimetype": "text/x-python",
   "name": "python",
   "nbconvert_exporter": "python",
   "pygments_lexer": "ipython3",
   "version": "3.13.2"
  }
 },
 "nbformat": 4,
 "nbformat_minor": 5
}
